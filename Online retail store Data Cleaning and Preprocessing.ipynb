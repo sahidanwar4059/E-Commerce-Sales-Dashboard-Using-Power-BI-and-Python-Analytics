{
 "cells": [
  {
   "cell_type": "markdown",
   "id": "dc19d21a-0b91-44eb-bffe-7a7f748a1c0a",
   "metadata": {},
   "source": [
    "<p style=\"font-family: Georgia; font-size: 30px; color: darkblue;\">\n",
    "🔹 install all the necessary libraries \n",
    "</p>"
   ]
  },
  {
   "cell_type": "code",
   "execution_count": 83,
   "id": "44aa63e7-3a9a-452f-a323-1fa4199c5336",
   "metadata": {},
   "outputs": [
    {
     "name": "stdout",
     "output_type": "stream",
     "text": [
      "Requirement already satisfied: matplotlib in c:\\users\\anwar\\appdata\\local\\programs\\python\\python313\\lib\\site-packages (3.10.3)\n",
      "Requirement already satisfied: contourpy>=1.0.1 in c:\\users\\anwar\\appdata\\local\\programs\\python\\python313\\lib\\site-packages (from matplotlib) (1.3.2)\n",
      "Requirement already satisfied: cycler>=0.10 in c:\\users\\anwar\\appdata\\local\\programs\\python\\python313\\lib\\site-packages (from matplotlib) (0.12.1)\n",
      "Requirement already satisfied: fonttools>=4.22.0 in c:\\users\\anwar\\appdata\\local\\programs\\python\\python313\\lib\\site-packages (from matplotlib) (4.58.1)\n",
      "Requirement already satisfied: kiwisolver>=1.3.1 in c:\\users\\anwar\\appdata\\local\\programs\\python\\python313\\lib\\site-packages (from matplotlib) (1.4.8)\n",
      "Requirement already satisfied: numpy>=1.23 in c:\\users\\anwar\\appdata\\local\\programs\\python\\python313\\lib\\site-packages (from matplotlib) (2.2.5)\n",
      "Requirement already satisfied: packaging>=20.0 in c:\\users\\anwar\\appdata\\local\\programs\\python\\python313\\lib\\site-packages (from matplotlib) (25.0)\n",
      "Requirement already satisfied: pillow>=8 in c:\\users\\anwar\\appdata\\local\\programs\\python\\python313\\lib\\site-packages (from matplotlib) (11.2.1)\n",
      "Requirement already satisfied: pyparsing>=2.3.1 in c:\\users\\anwar\\appdata\\local\\programs\\python\\python313\\lib\\site-packages (from matplotlib) (3.2.3)\n",
      "Requirement already satisfied: python-dateutil>=2.7 in c:\\users\\anwar\\appdata\\local\\programs\\python\\python313\\lib\\site-packages (from matplotlib) (2.9.0.post0)\n",
      "Requirement already satisfied: six>=1.5 in c:\\users\\anwar\\appdata\\local\\programs\\python\\python313\\lib\\site-packages (from python-dateutil>=2.7->matplotlib) (1.17.0)\n",
      "Requirement already satisfied: openpyxl in c:\\users\\anwar\\appdata\\local\\programs\\python\\python313\\lib\\site-packages (3.1.5)\n",
      "Requirement already satisfied: et-xmlfile in c:\\users\\anwar\\appdata\\local\\programs\\python\\python313\\lib\\site-packages (from openpyxl) (2.0.0)\n",
      "Requirement already satisfied: numpy in c:\\users\\anwar\\appdata\\local\\programs\\python\\python313\\lib\\site-packages (2.2.5)\n",
      "Requirement already satisfied: panda in c:\\users\\anwar\\appdata\\local\\programs\\python\\python313\\lib\\site-packages (0.3.1)\n",
      "Requirement already satisfied: setuptools in c:\\users\\anwar\\appdata\\local\\programs\\python\\python313\\lib\\site-packages (from panda) (80.8.0)\n",
      "Requirement already satisfied: requests in c:\\users\\anwar\\appdata\\local\\programs\\python\\python313\\lib\\site-packages (from panda) (2.32.3)\n",
      "Requirement already satisfied: charset-normalizer<4,>=2 in c:\\users\\anwar\\appdata\\local\\programs\\python\\python313\\lib\\site-packages (from requests->panda) (3.4.2)\n",
      "Requirement already satisfied: idna<4,>=2.5 in c:\\users\\anwar\\appdata\\local\\programs\\python\\python313\\lib\\site-packages (from requests->panda) (3.10)\n",
      "Requirement already satisfied: urllib3<3,>=1.21.1 in c:\\users\\anwar\\appdata\\local\\programs\\python\\python313\\lib\\site-packages (from requests->panda) (2.4.0)\n",
      "Requirement already satisfied: certifi>=2017.4.17 in c:\\users\\anwar\\appdata\\local\\programs\\python\\python313\\lib\\site-packages (from requests->panda) (2025.4.26)\n"
     ]
    }
   ],
   "source": [
    "#install all required libraries\n",
    "!pip install matplotlib\n",
    "!pip install openpyxl\n",
    "!pip install numpy\n",
    "!pip install panda\n",
    "#Import all required libraries\n",
    "import pandas as pd\n",
    "import numpy as np\n",
    "import matplotlib.pyplot as plt\n",
    "import re\n",
    "import os"
   ]
  },
  {
   "cell_type": "markdown",
   "id": "fa6a9d18-8fa4-42a8-8cd8-13e954722304",
   "metadata": {},
   "source": [
    "<p style=\"font-family: Georgia; font-size: 30px; color: darkblue;\">\n",
    "🔹 Load  Dataset\n",
    "</p>"
   ]
  },
  {
   "cell_type": "code",
   "execution_count": 88,
   "id": "a1c8b9f5-7b82-4b80-bf6b-3ead706aa22e",
   "metadata": {},
   "outputs": [
    {
     "name": "stdout",
     "output_type": "stream",
     "text": [
      "Top 5 Rows\n",
      "  InvoiceNo StockCode                          Description  Quantity  \\\n",
      "0    536365    85123A   WHITE HANGING HEART T-LIGHT HOLDER         6   \n",
      "1    536365     71053                  WHITE METAL LANTERN         6   \n",
      "2    536365    84406B       CREAM CUPID HEARTS COAT HANGER         8   \n",
      "3    536365    84029G  KNITTED UNION FLAG HOT WATER BOTTLE         6   \n",
      "4    536365    84029E       RED WOOLLY HOTTIE WHITE HEART.         6   \n",
      "\n",
      "          InvoiceDate  UnitPrice  CustomerID         Country  \n",
      "0 2010-12-01 08:26:00       2.55     17850.0  United Kingdom  \n",
      "1 2010-12-01 08:26:00       3.39     17850.0  United Kingdom  \n",
      "2 2010-12-01 08:26:00       2.75     17850.0  United Kingdom  \n",
      "3 2010-12-01 08:26:00       3.39     17850.0  United Kingdom  \n",
      "4 2010-12-01 08:26:00       3.39     17850.0  United Kingdom  \n"
     ]
    }
   ],
   "source": [
    "df = pd.read_excel('Online Retail Data Set.xlsx')\n",
    "print('Top 5 Rows')\n",
    "print(df.head())"
   ]
  },
  {
   "cell_type": "markdown",
   "id": "b18fab68-7319-499c-9e38-6be9423e9624",
   "metadata": {},
   "source": [
    "<p style=\"font-family: Georgia; font-size: 30px; color: darkblue;\">\n",
    "🔹2-Perform High-Level Data Checks\n",
    "</p>"
   ]
  },
  {
   "cell_type": "markdown",
   "id": "25fd7234-c378-4403-aa2e-460ebc88ebce",
   "metadata": {},
   "source": [
    "<p style=\"font-family: Georgia; font-size: 20px; color: dark;\">\n",
    "🔹2.1-Snapshot Summery\n",
    "</p>"
   ]
  },
  {
   "cell_type": "code",
   "execution_count": 89,
   "id": "0b5e493c-463b-41fa-85a3-c044219f9932",
   "metadata": {},
   "outputs": [
    {
     "name": "stdout",
     "output_type": "stream",
     "text": [
      "Df colmuns\n",
      "Index(['InvoiceNo', 'StockCode', 'Description', 'Quantity', 'InvoiceDate',\n",
      "       'UnitPrice', 'CustomerID', 'Country'],\n",
      "      dtype='object')\n",
      "Df Info\n",
      "<class 'pandas.core.frame.DataFrame'>\n",
      "RangeIndex: 541909 entries, 0 to 541908\n",
      "Data columns (total 8 columns):\n",
      " #   Column       Non-Null Count   Dtype         \n",
      "---  ------       --------------   -----         \n",
      " 0   InvoiceNo    541909 non-null  object        \n",
      " 1   StockCode    541909 non-null  object        \n",
      " 2   Description  540455 non-null  object        \n",
      " 3   Quantity     541909 non-null  int64         \n",
      " 4   InvoiceDate  541909 non-null  datetime64[ns]\n",
      " 5   UnitPrice    541909 non-null  float64       \n",
      " 6   CustomerID   406829 non-null  float64       \n",
      " 7   Country      541909 non-null  object        \n",
      "dtypes: datetime64[ns](1), float64(2), int64(1), object(4)\n",
      "memory usage: 33.1+ MB\n",
      "None\n",
      "Df shape\n",
      "(541909, 8)\n",
      "Df colmuns Data type\n",
      "InvoiceNo              object\n",
      "StockCode              object\n",
      "Description            object\n",
      "Quantity                int64\n",
      "InvoiceDate    datetime64[ns]\n",
      "UnitPrice             float64\n",
      "CustomerID            float64\n",
      "Country                object\n",
      "dtype: object\n",
      "Df Description\n",
      "        InvoiceNo StockCode                         Description  \\\n",
      "count    541909.0    541909                              540455   \n",
      "unique    25900.0      4070                                4223   \n",
      "top      573585.0    85123A  WHITE HANGING HEART T-LIGHT HOLDER   \n",
      "freq       1114.0      2313                                2369   \n",
      "mean          NaN       NaN                                 NaN   \n",
      "min           NaN       NaN                                 NaN   \n",
      "25%           NaN       NaN                                 NaN   \n",
      "50%           NaN       NaN                                 NaN   \n",
      "75%           NaN       NaN                                 NaN   \n",
      "max           NaN       NaN                                 NaN   \n",
      "std           NaN       NaN                                 NaN   \n",
      "\n",
      "             Quantity                    InvoiceDate      UnitPrice  \\\n",
      "count   541909.000000                         541909  541909.000000   \n",
      "unique            NaN                            NaN            NaN   \n",
      "top               NaN                            NaN            NaN   \n",
      "freq              NaN                            NaN            NaN   \n",
      "mean         9.552250  2011-07-04 13:34:57.156386048       4.611114   \n",
      "min     -80995.000000            2010-12-01 08:26:00  -11062.060000   \n",
      "25%          1.000000            2011-03-28 11:34:00       1.250000   \n",
      "50%          3.000000            2011-07-19 17:17:00       2.080000   \n",
      "75%         10.000000            2011-10-19 11:27:00       4.130000   \n",
      "max      80995.000000            2011-12-09 12:50:00   38970.000000   \n",
      "std        218.081158                            NaN      96.759853   \n",
      "\n",
      "           CustomerID         Country  \n",
      "count   406829.000000          541909  \n",
      "unique            NaN              38  \n",
      "top               NaN  United Kingdom  \n",
      "freq              NaN          495478  \n",
      "mean     15287.690570             NaN  \n",
      "min      12346.000000             NaN  \n",
      "25%      13953.000000             NaN  \n",
      "50%      15152.000000             NaN  \n",
      "75%      16791.000000             NaN  \n",
      "max      18287.000000             NaN  \n",
      "std       1713.600303             NaN  \n"
     ]
    }
   ],
   "source": [
    "#Check data structure\n",
    "print('Df colmuns') \n",
    "print(df.columns)\n",
    "print('Df Info') \n",
    "print(df.info())\n",
    "print('Df shape') \n",
    "print(df.shape)\n",
    "print('Df colmuns Data type') \n",
    "print(df.dtypes)\n",
    "print('Df Description') \n",
    "print(df.describe(include='all'))"
   ]
  },
  {
   "cell_type": "markdown",
   "id": "2e1bfa26-5471-482e-be90-bf17fcb9c4df",
   "metadata": {},
   "source": [
    "<p style=\"font-family: Georgia; font-size: 20px; color: dark;\">\n",
    "🔹2.2 change data types\n",
    "</p>"
   ]
  },
  {
   "cell_type": "code",
   "execution_count": 95,
   "id": "6af147ba-7b85-4cfe-a90d-fab88a3e2433",
   "metadata": {
    "scrolled": true
   },
   "outputs": [
    {
     "name": "stdout",
     "output_type": "stream",
     "text": [
      "InvoiceNo              object\n",
      "StockCode              object\n",
      "Description            object\n",
      "Quantity                int64\n",
      "InvoiceDate    datetime64[ns]\n",
      "UnitPrice             float64\n",
      "CustomerID             object\n",
      "Country                object\n",
      "dtype: object\n"
     ]
    }
   ],
   "source": [
    "#change required columns data type\n",
    "df['CustomerID']=df['CustomerID'].astype(str)\n",
    "print(df.dtypes)"
   ]
  },
  {
   "cell_type": "markdown",
   "id": "ed8cd99d-c0b7-43f7-bedd-41321bf152aa",
   "metadata": {},
   "source": [
    "<p style=\"font-family: Georgia; font-size: 20px; color: dark;\">\n",
    "🔹2.3 Missing, duplicates\n",
    "</p>"
   ]
  },
  {
   "cell_type": "code",
   "execution_count": 92,
   "id": "6eda4925-d263-4928-b80f-65fc0c56525a",
   "metadata": {},
   "outputs": [
    {
     "name": "stdout",
     "output_type": "stream",
     "text": [
      "missing:\n",
      " InvoiceNo      0\n",
      "StockCode      0\n",
      "Description    0\n",
      "Quantity       0\n",
      "InvoiceDate    0\n",
      "UnitPrice      0\n",
      "CustomerID     0\n",
      "Country        0\n",
      "dtype: int64\n",
      "Missing Percent:\n",
      " InvoiceNo      0.0\n",
      "StockCode      0.0\n",
      "Description    0.0\n",
      "Quantity       0.0\n",
      "InvoiceDate    0.0\n",
      "UnitPrice      0.0\n",
      "CustomerID     0.0\n",
      "Country        0.0\n",
      "dtype: float64\n"
     ]
    }
   ],
   "source": [
    "#check missings\n",
    "missing=df.isna().sum().sort_values(ascending=False)\n",
    "print('missing:\\n', missing)\n",
    "\n",
    "#Check missing percent\n",
    "missing_percent=(missing/len(df))*100\n",
    "print('Missing Percent:\\n', missing_percent)"
   ]
  },
  {
   "cell_type": "code",
   "execution_count": 91,
   "id": "0d3c35fa-6c30-41fc-8dca-db2924ce7c2c",
   "metadata": {},
   "outputs": [],
   "source": [
    "#missing values handling\n",
    "#fill customer id 24% missings with 'Unknown'\n",
    "df['CustomerID']=df['CustomerID'].fillna('Unknown')\n",
    "\n",
    "#remove decription null vlaues beacuse its is less then 1 %\n",
    "\n",
    "df=df[df['Description'].notna()]"
   ]
  },
  {
   "cell_type": "code",
   "execution_count": 97,
   "id": "881ece7d-90e3-49af-a4b0-12c5bbfd2cc9",
   "metadata": {},
   "outputs": [
    {
     "name": "stdout",
     "output_type": "stream",
     "text": [
      "5268\n"
     ]
    }
   ],
   "source": [
    "#duplicate Check\n",
    "print(df.duplicated().sum())\n",
    "\n",
    "#drop duplicates\n",
    "df.drop_duplicates(inplace=True)\n"
   ]
  },
  {
   "cell_type": "markdown",
   "id": "ff8b2934-ba91-4282-a7bd-0d1d39bdc79f",
   "metadata": {},
   "source": [
    "<p style=\"font-family: Georgia; font-size: 20px; color: dark;\">\n",
    "🔹2.3 Detect & trim extreme outliers (basic IQR rule)\n",
    "</p>"
   ]
  },
  {
   "cell_type": "code",
   "execution_count": 98,
   "id": "62a90530-fc58-4752-96b7-05eec9caf0dc",
   "metadata": {},
   "outputs": [
    {
     "name": "stdout",
     "output_type": "stream",
     "text": [
      "Quantity: 57849\n",
      "outliers_percent Q\n",
      "10.809119055582443\n",
      "Price: 3495\n",
      "outliers_percent P\n",
      "0.6530427682286752\n",
      "(535187, 8)\n"
     ]
    }
   ],
   "source": [
    "#detecting outleirs in Quantity column Column\n",
    "Q1_Q=df['Quantity'].quantile(0.25)\n",
    "Q3_Q=df['Quantity'].quantile(0.75)\n",
    "IQR_Q=Q3-Q1\n",
    "lower_bound_Q=Q1-1.5*IQR\n",
    "upper_bound_Q=Q3+1.5*IQR\n",
    "outliers_Q = df[(df['Quantity'] < lower_bound) | (df['Quantity'] > upper_bound)]\n",
    "print('Quantity:',outliers_Q.shape[0])\n",
    "outliers_percent_Q=(outliers_Q.shape[0]/len(df))*100\n",
    "print('outliers_percent Q')\n",
    "print(outliers_percent_Q)\n",
    "#detecting outleirs in unit column Column\n",
    "Q1_P=df['UnitPrice'].quantile(0.25)\n",
    "Q3_P=df['UnitPrice'].quantile(0.75)\n",
    "IQR_P=Q3-Q1\n",
    "lower_bound_P=Q1-1.5*IQR\n",
    "upper_bound_P=Q3+1.5*IQR\n",
    "outliers_P= df[(df['UnitPrice'] < lower_bound) | (df['UnitPrice'] > upper_bound)]\n",
    "print('Price:',outliers_P.shape[0])\n",
    "outliers_percent_P=(outliers_P.shape[0]/len(df))*100\n",
    "print('outliers_percent P')\n",
    "\n",
    "print(outliers_percent_P)\n",
    "\n",
    "print(df.shape)\n",
    "#remove outliers\n",
    "df=df[(df['UnitPrice'] > lower_bound_P) & (df['UnitPrice'] < upper_bound_P) & (df['Quantity'] > lower_bound_Q) & (df['Quantity'] < upper_bound_Q)]\n",
    "#print(txn.shape)"
   ]
  },
  {
   "cell_type": "markdown",
   "id": "d41da759-1b14-472e-8771-7aa32c22e5ff",
   "metadata": {},
   "source": [
    "<p style=\"font-family: Georgia; font-size: 20px; color: dark;\">\n",
    "🔹2.3 Detect & Remove invalid values in Quantity and prince column\n",
    "</p>"
   ]
  },
  {
   "cell_type": "code",
   "execution_count": 99,
   "id": "26b419c5-90b0-4736-8857-10b4615d958d",
   "metadata": {},
   "outputs": [
    {
     "data": {
      "text/plain": [
       "np.int64(7859)"
      ]
     },
     "execution_count": 99,
     "metadata": {},
     "output_type": "execute_result"
    }
   ],
   "source": [
    "# check Quantity less then 1\n",
    "(df['Quantity']<1).sum()"
   ]
  },
  {
   "cell_type": "code",
   "execution_count": 100,
   "id": "ff627a3a-575e-4faa-978a-97a4f7135140",
   "metadata": {},
   "outputs": [
    {
     "data": {
      "text/plain": [
       "np.int64(0)"
      ]
     },
     "execution_count": 100,
     "metadata": {},
     "output_type": "execute_result"
    }
   ],
   "source": [
    "# check 0 less then 0\n",
    "(df['UnitPrice']<0).sum()"
   ]
  },
  {
   "cell_type": "code",
   "execution_count": 101,
   "id": "d1ec0d95-be74-41c9-9c33-ac33c8fda628",
   "metadata": {},
   "outputs": [],
   "source": [
    "# Remove Quantity and price invalid values\n",
    "df=df[(df['Quantity']>=1) & (df['UnitPrice']>=0)]"
   ]
  },
  {
   "cell_type": "code",
   "execution_count": 102,
   "id": "6c7ad4fe-e6da-47ea-b642-fca82c75238d",
   "metadata": {},
   "outputs": [
    {
     "data": {
      "text/plain": [
       "(465994, 8)"
      ]
     },
     "execution_count": 102,
     "metadata": {},
     "output_type": "execute_result"
    }
   ],
   "source": [
    "df.shape"
   ]
  },
  {
   "cell_type": "markdown",
   "id": "b0984546-955e-4211-9980-b01b42575181",
   "metadata": {},
   "source": [
    "<p style=\"font-family: Georgia; font-size: 30px; color: darkblue;\">\n",
    "🔹3  Feature engineering & Save cleand data\n",
    "</p>"
   ]
  },
  {
   "cell_type": "markdown",
   "id": "c158c8d5-3163-462f-b982-122775cf875a",
   "metadata": {},
   "source": [
    "<p style=\"font-family: Georgia; font-size: 20px; color: dark;\">\n",
    "🔹3.1 Total Sale column\n",
    "</p>"
   ]
  },
  {
   "cell_type": "code",
   "execution_count": 103,
   "id": "a8823a25-1e3f-4144-b870-be6dc7fc5256",
   "metadata": {},
   "outputs": [],
   "source": [
    "#Create Total sale column\n",
    "df['TotalSale']=df['Quantity']*df['UnitPrice']"
   ]
  },
  {
   "cell_type": "markdown",
   "id": "e3337857-3cb4-4d7c-8690-3d6246502d91",
   "metadata": {},
   "source": [
    "<p style=\"font-family: Georgia; font-size: 20px; color: dark;\">\n",
    "🔹3.Save data\n",
    "</p>"
   ]
  },
  {
   "cell_type": "code",
   "execution_count": 104,
   "id": "4250fcab-338e-4a7c-a086-640cffeae71c",
   "metadata": {},
   "outputs": [],
   "source": [
    "#save data in excel file for dashboard creation\n",
    "df.to_excel('online_retail_store cleand data.xlsx',index=False)"
   ]
  },
  {
   "cell_type": "code",
   "execution_count": 105,
   "id": "12db1972-c212-4883-a0b1-7e6c63926dfb",
   "metadata": {},
   "outputs": [
    {
     "data": {
      "text/plain": [
       "np.int64(128711)"
      ]
     },
     "execution_count": 105,
     "metadata": {},
     "output_type": "execute_result"
    }
   ],
   "source": [
    "df['CustomerID'].value_counts().get('Unknown',0)"
   ]
  },
  {
   "cell_type": "code",
   "execution_count": null,
   "id": "a2f0ceb5-aced-4460-b2de-a1a9adca7161",
   "metadata": {},
   "outputs": [],
   "source": []
  }
 ],
 "metadata": {
  "kernelspec": {
   "display_name": "Python 3 (ipykernel)",
   "language": "python",
   "name": "python3"
  },
  "language_info": {
   "codemirror_mode": {
    "name": "ipython",
    "version": 3
   },
   "file_extension": ".py",
   "mimetype": "text/x-python",
   "name": "python",
   "nbconvert_exporter": "python",
   "pygments_lexer": "ipython3",
   "version": "3.13.3"
  }
 },
 "nbformat": 4,
 "nbformat_minor": 5
}
